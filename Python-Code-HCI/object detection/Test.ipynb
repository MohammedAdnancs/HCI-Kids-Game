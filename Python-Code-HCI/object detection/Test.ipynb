{
 "cells": [
  {
   "cell_type": "code",
   "execution_count": 1,
   "metadata": {},
   "outputs": [
    {
     "name": "stdout",
     "output_type": "stream",
     "text": [
      "Requirement already satisfied: opencv-contrib-python in d:\\python\\ide\\lib\\site-packages (4.10.0.84)\n",
      "Requirement already satisfied: numpy>=1.17.0 in d:\\python\\ide\\lib\\site-packages (from opencv-contrib-python) (1.24.4)\n",
      "Note: you may need to restart the kernel to use updated packages.\n"
     ]
    }
   ],
   "source": [
    "pip install opencv-contrib-python\n"
   ]
  },
  {
   "cell_type": "code",
   "execution_count": 2,
   "metadata": {},
   "outputs": [
    {
     "name": "stdout",
     "output_type": "stream",
     "text": [
      "Requirement already satisfied: ultralytics in c:\\users\\lenovo\\appdata\\roaming\\python\\python39\\site-packages (8.3.52)\n",
      "Requirement already satisfied: seaborn>=0.11.0 in d:\\python\\ide\\lib\\site-packages (from ultralytics) (0.11.2)\n",
      "Requirement already satisfied: matplotlib>=3.3.0 in d:\\python\\ide\\lib\\site-packages (from ultralytics) (3.5.2)\n",
      "Requirement already satisfied: psutil in d:\\python\\ide\\lib\\site-packages (from ultralytics) (5.9.0)\n",
      "Requirement already satisfied: scipy>=1.4.1 in d:\\python\\ide\\lib\\site-packages (from ultralytics) (1.9.1)\n",
      "Requirement already satisfied: pandas>=1.1.4 in d:\\python\\ide\\lib\\site-packages (from ultralytics) (1.4.4)\n",
      "Requirement already satisfied: requests>=2.23.0 in d:\\python\\ide\\lib\\site-packages (from ultralytics) (2.28.1)\n",
      "Requirement already satisfied: torchvision>=0.9.0 in c:\\users\\lenovo\\appdata\\roaming\\python\\python39\\site-packages (from ultralytics) (0.20.1)\n",
      "Requirement already satisfied: torch>=1.8.0 in c:\\users\\lenovo\\appdata\\roaming\\python\\python39\\site-packages (from ultralytics) (2.5.1)\n",
      "Requirement already satisfied: numpy>=1.23.0 in d:\\python\\ide\\lib\\site-packages (from ultralytics) (1.24.4)\n",
      "Requirement already satisfied: tqdm>=4.64.0 in d:\\python\\ide\\lib\\site-packages (from ultralytics) (4.64.1)\n",
      "Requirement already satisfied: py-cpuinfo in d:\\python\\ide\\lib\\site-packages (from ultralytics) (9.0.0)\n",
      "Requirement already satisfied: ultralytics-thop>=2.0.0 in c:\\users\\lenovo\\appdata\\roaming\\python\\python39\\site-packages (from ultralytics) (2.0.13)\n",
      "Requirement already satisfied: pillow>=7.1.2 in d:\\python\\ide\\lib\\site-packages (from ultralytics) (9.2.0)\n",
      "Requirement already satisfied: opencv-python>=4.6.0 in c:\\users\\lenovo\\appdata\\roaming\\python\\python39\\site-packages (from ultralytics) (4.10.0.84)\n",
      "Requirement already satisfied: pyyaml>=5.3.1 in d:\\python\\ide\\lib\\site-packages (from ultralytics) (6.0)\n",
      "Requirement already satisfied: kiwisolver>=1.0.1 in d:\\python\\ide\\lib\\site-packages (from matplotlib>=3.3.0->ultralytics) (1.4.2)\n",
      "Requirement already satisfied: cycler>=0.10 in d:\\python\\ide\\lib\\site-packages (from matplotlib>=3.3.0->ultralytics) (0.11.0)\n",
      "Requirement already satisfied: packaging>=20.0 in d:\\python\\ide\\lib\\site-packages (from matplotlib>=3.3.0->ultralytics) (21.3)\n",
      "Requirement already satisfied: pyparsing>=2.2.1 in d:\\python\\ide\\lib\\site-packages (from matplotlib>=3.3.0->ultralytics) (3.0.9)\n",
      "Requirement already satisfied: python-dateutil>=2.7 in d:\\python\\ide\\lib\\site-packages (from matplotlib>=3.3.0->ultralytics) (2.8.2)\n",
      "Requirement already satisfied: fonttools>=4.22.0 in d:\\python\\ide\\lib\\site-packages (from matplotlib>=3.3.0->ultralytics) (4.25.0)\n",
      "Requirement already satisfied: pytz>=2020.1 in d:\\python\\ide\\lib\\site-packages (from pandas>=1.1.4->ultralytics) (2022.1)\n",
      "Requirement already satisfied: charset-normalizer<3,>=2 in d:\\python\\ide\\lib\\site-packages (from requests>=2.23.0->ultralytics) (2.0.4)\n",
      "Requirement already satisfied: certifi>=2017.4.17 in d:\\python\\ide\\lib\\site-packages (from requests>=2.23.0->ultralytics) (2022.9.14)\n",
      "Requirement already satisfied: urllib3<1.27,>=1.21.1 in d:\\python\\ide\\lib\\site-packages (from requests>=2.23.0->ultralytics) (1.26.11)\n",
      "Requirement already satisfied: idna<4,>=2.5 in d:\\python\\ide\\lib\\site-packages (from requests>=2.23.0->ultralytics) (3.3)\n",
      "Requirement already satisfied: typing-extensions>=4.8.0 in d:\\python\\ide\\lib\\site-packages (from torch>=1.8.0->ultralytics) (4.12.2)\n",
      "Requirement already satisfied: networkx in d:\\python\\ide\\lib\\site-packages (from torch>=1.8.0->ultralytics) (2.8.4)\n",
      "Requirement already satisfied: fsspec in d:\\python\\ide\\lib\\site-packages (from torch>=1.8.0->ultralytics) (2022.7.1)\n",
      "Requirement already satisfied: filelock in d:\\python\\ide\\lib\\site-packages (from torch>=1.8.0->ultralytics) (3.6.0)\n",
      "Requirement already satisfied: jinja2 in d:\\python\\ide\\lib\\site-packages (from torch>=1.8.0->ultralytics) (2.11.3)\n",
      "Requirement already satisfied: sympy==1.13.1 in d:\\python\\ide\\lib\\site-packages (from torch>=1.8.0->ultralytics) (1.13.1)\n",
      "Requirement already satisfied: mpmath<1.4,>=1.1.0 in d:\\python\\ide\\lib\\site-packages (from sympy==1.13.1->torch>=1.8.0->ultralytics) (1.2.1)\n",
      "Requirement already satisfied: colorama in d:\\python\\ide\\lib\\site-packages (from tqdm>=4.64.0->ultralytics) (0.4.5)\n",
      "Requirement already satisfied: six>=1.5 in d:\\python\\ide\\lib\\site-packages (from python-dateutil>=2.7->matplotlib>=3.3.0->ultralytics) (1.16.0)\n",
      "Requirement already satisfied: MarkupSafe>=0.23 in d:\\python\\ide\\lib\\site-packages (from jinja2->torch>=1.8.0->ultralytics) (2.0.1)\n",
      "Note: you may need to restart the kernel to use updated packages.\n"
     ]
    }
   ],
   "source": [
    "pip install --user ultralytics\n"
   ]
  },
  {
   "cell_type": "code",
   "execution_count": 3,
   "metadata": {},
   "outputs": [],
   "source": [
    "import cv2\n",
    "from ultralytics import YOLO\n",
    "\n",
    "# Load the trained YOLO model\n",
    "model = YOLO('runs/detect/custom_yolo_model/weights/best.pt')  # Update with your model's path\n",
    "\n",
    "# Open the webcam\n",
    "cap = cv2.VideoCapture(0)  # 0 for default webcam\n",
    "\n",
    "# Check if the webcam is opened correctly\n",
    "if not cap.isOpened():\n",
    "    print(\"Error: Could not open webcam.\")\n",
    "    exit()\n",
    "\n",
    "# Process webcam frames in a loop\n",
    "while True:\n",
    "    ret, frame = cap.read()  # Read a frame from the webcam\n",
    "    if not ret:\n",
    "        print(\"Error: Failed to capture image.\")\n",
    "        break\n",
    "\n",
    "    # Run YOLO detection on the frame\n",
    "    results = model.predict(source=frame, conf=0.5, verbose=False)  # Set confidence threshold\n",
    "\n",
    "    # Extract detection results\n",
    "    for box in results[0].boxes:  # Iterate through detections\n",
    "        x1, y1, x2, y2 = map(int, box.xyxy[0].tolist())  # Bounding box coordinates\n",
    "        confidence = box.conf[0].item()  # Confidence score\n",
    "        class_id = int(box.cls[0].item())  # Class ID\n",
    "        class_name = model.names[class_id]  # Class name\n",
    "\n",
    "        # Draw bounding box and label on the frame\n",
    "        cv2.rectangle(frame, (x1, y1), (x2, y2), (0, 255, 0), 2)  # Green box\n",
    "        label = f\"{class_name} {confidence:.2f}\"\n",
    "        cv2.putText(frame, label, (x1, y1 - 10), cv2.FONT_HERSHEY_SIMPLEX, 0.5, (0, 255, 0), 2)\n",
    "\n",
    "    # Display the frame with detections\n",
    "    cv2.imshow(\"YOLO Detection\", frame)\n",
    "\n",
    "    # Break the loop if 'q' is pressed\n",
    "    if cv2.waitKey(1) & 0xFF == ord('q'):\n",
    "        break\n",
    "\n",
    "# Release the webcam and close OpenCV windows\n",
    "cap.release()\n",
    "cv2.destroyAllWindows()\n",
    "\n"
   ]
  }
 ],
 "metadata": {
  "kernelspec": {
   "display_name": "base",
   "language": "python",
   "name": "python3"
  },
  "language_info": {
   "codemirror_mode": {
    "name": "ipython",
    "version": 3
   },
   "file_extension": ".py",
   "mimetype": "text/x-python",
   "name": "python",
   "nbconvert_exporter": "python",
   "pygments_lexer": "ipython3",
   "version": "3.9.13"
  }
 },
 "nbformat": 4,
 "nbformat_minor": 2
}
